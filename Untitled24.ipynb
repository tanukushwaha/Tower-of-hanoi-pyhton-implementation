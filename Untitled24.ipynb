{
  "nbformat": 4,
  "nbformat_minor": 0,
  "metadata": {
    "colab": {
      "name": "Untitled24.ipynb",
      "version": "0.3.2",
      "provenance": [],
      "include_colab_link": true
    },
    "kernelspec": {
      "name": "python3",
      "display_name": "Python 3"
    }
  },
  "cells": [
    {
      "cell_type": "markdown",
      "metadata": {
        "id": "view-in-github",
        "colab_type": "text"
      },
      "source": [
        "<a href=\"https://colab.research.google.com/github/tanukushwaha/Tower-of-hanoi-pyhton-implementation/blob/master/Untitled24.ipynb\" target=\"_parent\"><img src=\"https://colab.research.google.com/assets/colab-badge.svg\" alt=\"Open In Colab\"/></a>"
      ]
    },
    {
      "cell_type": "code",
      "metadata": {
        "id": "vo9Fbqtk97lG",
        "colab_type": "code",
        "colab": {
          "base_uri": "https://localhost:8080/",
          "height": 153
        },
        "outputId": "c882d5fe-ce19-4955-83f9-a5bb92738330"
      },
      "source": [
        "#implement Tower of Hanoi\n",
        "def hanoi(disks,source,auxillary,target):\n",
        "    if disks ==1:\n",
        "        print(\"Move Disk1 from peg{} to peg{}.\".format(source,target))\n",
        "        return\n",
        "    hanoi(disks-1,source,target,auxillary)\n",
        "    print(\"Move Disk{} from peg{} to peg{}.\".format(disks,source,target))\n",
        "    hanoi(disks-1,auxillary,source,target)\n",
        "disks=(int(input(\"Enter Number of disks:\")))\n",
        "hanoi(disks,'A','B','C')\n"
      ],
      "execution_count": 1,
      "outputs": [
        {
          "output_type": "stream",
          "text": [
            "Enter Number of disks:3\n",
            "Move Disk1 from pegA to pegC.\n",
            "Move Disk2 from pegA to pegB.\n",
            "Move Disk1 from pegC to pegB.\n",
            "Move Disk3 from pegA to pegC.\n",
            "Move Disk1 from pegB to pegA.\n",
            "Move Disk2 from pegB to pegC.\n",
            "Move Disk1 from pegA to pegC.\n"
          ],
          "name": "stdout"
        }
      ]
    }
  ]
}